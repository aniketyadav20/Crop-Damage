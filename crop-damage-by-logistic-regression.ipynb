{
 "cells": [
  {
   "cell_type": "markdown",
   "execution_count": null,
   "metadata": {
    "papermill": {
     "duration": 0.008578,
     "end_time": "2020-08-31T18:03:00.855776",
     "exception": false,
     "start_time": "2020-08-31T18:03:00.847198",
     "status": "completed"
    },
    "tags": []
   },
   "source": [
    "In this notebook we will work on crop_damage dataset. In this we have 88858 rows × 10 columns.\n",
    "\n",
    "We use Logistic Regression to train our model.\n",
    "\n",
    "Let's do it\n",
    "\n",
    "import all the necessary libraries\n",
    "\n",
    "import data using pandas library"
   ]
  },
  {
   "cell_type": "code",
   "execution_count": 1,
   "metadata": {
    "_cell_guid": "79c7e3d0-c299-4dcb-8224-4455121ee9b0",
    "_uuid": "d629ff2d2480ee46fbb7e2d37f6b5fab8052498a",
    "execution": {
     "iopub.execute_input": "2020-08-31T18:03:00.884649Z",
     "iopub.status.busy": "2020-08-31T18:03:00.884055Z",
     "iopub.status.idle": "2020-08-31T18:03:01.002086Z",
     "shell.execute_reply": "2020-08-31T18:03:01.001260Z"
    },
    "papermill": {
     "duration": 0.138893,
     "end_time": "2020-08-31T18:03:01.002239",
     "exception": false,
     "start_time": "2020-08-31T18:03:00.863346",
     "status": "completed"
    },
    "tags": []
   },
   "outputs": [],
   "source": [
    "import pandas as pd\n",
    "import numpy as np\n",
    "df=pd.read_csv(\"../input/crop-damage/train_yaOffsB.csv\")"
   ]
  },
  {
   "cell_type": "code",
   "execution_count": 2,
   "metadata": {
    "execution": {
     "iopub.execute_input": "2020-08-31T18:03:01.044536Z",
     "iopub.status.busy": "2020-08-31T18:03:01.041036Z",
     "iopub.status.idle": "2020-08-31T18:03:01.057044Z",
     "shell.execute_reply": "2020-08-31T18:03:01.057718Z"
    },
    "papermill": {
     "duration": 0.043645,
     "end_time": "2020-08-31T18:03:01.057908",
     "exception": false,
     "start_time": "2020-08-31T18:03:01.014263",
     "status": "completed"
    },
    "tags": []
   },
   "outputs": [
    {
     "data": {
      "text/html": [
       "<div>\n",
       "<style scoped>\n",
       "    .dataframe tbody tr th:only-of-type {\n",
       "        vertical-align: middle;\n",
       "    }\n",
       "\n",
       "    .dataframe tbody tr th {\n",
       "        vertical-align: top;\n",
       "    }\n",
       "\n",
       "    .dataframe thead th {\n",
       "        text-align: right;\n",
       "    }\n",
       "</style>\n",
       "<table border=\"1\" class=\"dataframe\">\n",
       "  <thead>\n",
       "    <tr style=\"text-align: right;\">\n",
       "      <th></th>\n",
       "      <th>ID</th>\n",
       "      <th>Estimated_Insects_Count</th>\n",
       "      <th>Crop_Type</th>\n",
       "      <th>Soil_Type</th>\n",
       "      <th>Pesticide_Use_Category</th>\n",
       "      <th>Number_Doses_Week</th>\n",
       "      <th>Number_Weeks_Used</th>\n",
       "      <th>Number_Weeks_Quit</th>\n",
       "      <th>Season</th>\n",
       "      <th>Crop_Damage</th>\n",
       "    </tr>\n",
       "  </thead>\n",
       "  <tbody>\n",
       "    <tr>\n",
       "      <th>0</th>\n",
       "      <td>F00000001</td>\n",
       "      <td>188</td>\n",
       "      <td>1</td>\n",
       "      <td>0</td>\n",
       "      <td>1</td>\n",
       "      <td>0</td>\n",
       "      <td>0.0</td>\n",
       "      <td>0</td>\n",
       "      <td>1</td>\n",
       "      <td>0</td>\n",
       "    </tr>\n",
       "    <tr>\n",
       "      <th>1</th>\n",
       "      <td>F00000003</td>\n",
       "      <td>209</td>\n",
       "      <td>1</td>\n",
       "      <td>0</td>\n",
       "      <td>1</td>\n",
       "      <td>0</td>\n",
       "      <td>0.0</td>\n",
       "      <td>0</td>\n",
       "      <td>2</td>\n",
       "      <td>1</td>\n",
       "    </tr>\n",
       "    <tr>\n",
       "      <th>2</th>\n",
       "      <td>F00000004</td>\n",
       "      <td>257</td>\n",
       "      <td>1</td>\n",
       "      <td>0</td>\n",
       "      <td>1</td>\n",
       "      <td>0</td>\n",
       "      <td>0.0</td>\n",
       "      <td>0</td>\n",
       "      <td>2</td>\n",
       "      <td>1</td>\n",
       "    </tr>\n",
       "    <tr>\n",
       "      <th>3</th>\n",
       "      <td>F00000005</td>\n",
       "      <td>257</td>\n",
       "      <td>1</td>\n",
       "      <td>1</td>\n",
       "      <td>1</td>\n",
       "      <td>0</td>\n",
       "      <td>0.0</td>\n",
       "      <td>0</td>\n",
       "      <td>2</td>\n",
       "      <td>1</td>\n",
       "    </tr>\n",
       "    <tr>\n",
       "      <th>4</th>\n",
       "      <td>F00000006</td>\n",
       "      <td>342</td>\n",
       "      <td>1</td>\n",
       "      <td>0</td>\n",
       "      <td>1</td>\n",
       "      <td>0</td>\n",
       "      <td>0.0</td>\n",
       "      <td>0</td>\n",
       "      <td>2</td>\n",
       "      <td>1</td>\n",
       "    </tr>\n",
       "    <tr>\n",
       "      <th>...</th>\n",
       "      <td>...</td>\n",
       "      <td>...</td>\n",
       "      <td>...</td>\n",
       "      <td>...</td>\n",
       "      <td>...</td>\n",
       "      <td>...</td>\n",
       "      <td>...</td>\n",
       "      <td>...</td>\n",
       "      <td>...</td>\n",
       "      <td>...</td>\n",
       "    </tr>\n",
       "    <tr>\n",
       "      <th>88853</th>\n",
       "      <td>F00155935</td>\n",
       "      <td>3337</td>\n",
       "      <td>1</td>\n",
       "      <td>0</td>\n",
       "      <td>2</td>\n",
       "      <td>10</td>\n",
       "      <td>12.0</td>\n",
       "      <td>44</td>\n",
       "      <td>3</td>\n",
       "      <td>0</td>\n",
       "    </tr>\n",
       "    <tr>\n",
       "      <th>88854</th>\n",
       "      <td>F00155938</td>\n",
       "      <td>3516</td>\n",
       "      <td>1</td>\n",
       "      <td>0</td>\n",
       "      <td>2</td>\n",
       "      <td>10</td>\n",
       "      <td>20.0</td>\n",
       "      <td>38</td>\n",
       "      <td>1</td>\n",
       "      <td>0</td>\n",
       "    </tr>\n",
       "    <tr>\n",
       "      <th>88855</th>\n",
       "      <td>F00155939</td>\n",
       "      <td>3516</td>\n",
       "      <td>1</td>\n",
       "      <td>0</td>\n",
       "      <td>2</td>\n",
       "      <td>15</td>\n",
       "      <td>40.0</td>\n",
       "      <td>8</td>\n",
       "      <td>2</td>\n",
       "      <td>0</td>\n",
       "    </tr>\n",
       "    <tr>\n",
       "      <th>88856</th>\n",
       "      <td>F00155942</td>\n",
       "      <td>3702</td>\n",
       "      <td>1</td>\n",
       "      <td>0</td>\n",
       "      <td>2</td>\n",
       "      <td>10</td>\n",
       "      <td>25.0</td>\n",
       "      <td>18</td>\n",
       "      <td>3</td>\n",
       "      <td>0</td>\n",
       "    </tr>\n",
       "    <tr>\n",
       "      <th>88857</th>\n",
       "      <td>F00155945</td>\n",
       "      <td>3895</td>\n",
       "      <td>1</td>\n",
       "      <td>0</td>\n",
       "      <td>2</td>\n",
       "      <td>20</td>\n",
       "      <td>37.0</td>\n",
       "      <td>7</td>\n",
       "      <td>3</td>\n",
       "      <td>0</td>\n",
       "    </tr>\n",
       "  </tbody>\n",
       "</table>\n",
       "<p>88858 rows × 10 columns</p>\n",
       "</div>"
      ],
      "text/plain": [
       "              ID  Estimated_Insects_Count  Crop_Type  Soil_Type  \\\n",
       "0      F00000001                      188          1          0   \n",
       "1      F00000003                      209          1          0   \n",
       "2      F00000004                      257          1          0   \n",
       "3      F00000005                      257          1          1   \n",
       "4      F00000006                      342          1          0   \n",
       "...          ...                      ...        ...        ...   \n",
       "88853  F00155935                     3337          1          0   \n",
       "88854  F00155938                     3516          1          0   \n",
       "88855  F00155939                     3516          1          0   \n",
       "88856  F00155942                     3702          1          0   \n",
       "88857  F00155945                     3895          1          0   \n",
       "\n",
       "       Pesticide_Use_Category  Number_Doses_Week  Number_Weeks_Used  \\\n",
       "0                           1                  0                0.0   \n",
       "1                           1                  0                0.0   \n",
       "2                           1                  0                0.0   \n",
       "3                           1                  0                0.0   \n",
       "4                           1                  0                0.0   \n",
       "...                       ...                ...                ...   \n",
       "88853                       2                 10               12.0   \n",
       "88854                       2                 10               20.0   \n",
       "88855                       2                 15               40.0   \n",
       "88856                       2                 10               25.0   \n",
       "88857                       2                 20               37.0   \n",
       "\n",
       "       Number_Weeks_Quit  Season  Crop_Damage  \n",
       "0                      0       1            0  \n",
       "1                      0       2            1  \n",
       "2                      0       2            1  \n",
       "3                      0       2            1  \n",
       "4                      0       2            1  \n",
       "...                  ...     ...          ...  \n",
       "88853                 44       3            0  \n",
       "88854                 38       1            0  \n",
       "88855                  8       2            0  \n",
       "88856                 18       3            0  \n",
       "88857                  7       3            0  \n",
       "\n",
       "[88858 rows x 10 columns]"
      ]
     },
     "execution_count": 2,
     "metadata": {},
     "output_type": "execute_result"
    }
   ],
   "source": [
    "df"
   ]
  },
  {
   "cell_type": "markdown",
   "execution_count": null,
   "metadata": {
    "papermill": {
     "duration": 0.010915,
     "end_time": "2020-08-31T18:03:01.080100",
     "exception": false,
     "start_time": "2020-08-31T18:03:01.069185",
     "status": "completed"
    },
    "tags": []
   },
   "source": [
    "> **Data Preprocessing**\n",
    "\n",
    "now we will first handle the null values"
   ]
  },
  {
   "cell_type": "code",
   "execution_count": 3,
   "metadata": {
    "execution": {
     "iopub.execute_input": "2020-08-31T18:03:01.115468Z",
     "iopub.status.busy": "2020-08-31T18:03:01.114866Z",
     "iopub.status.idle": "2020-08-31T18:03:01.122773Z",
     "shell.execute_reply": "2020-08-31T18:03:01.122081Z"
    },
    "papermill": {
     "duration": 0.03187,
     "end_time": "2020-08-31T18:03:01.122909",
     "exception": false,
     "start_time": "2020-08-31T18:03:01.091039",
     "status": "completed"
    },
    "tags": []
   },
   "outputs": [
    {
     "data": {
      "text/plain": [
       "array([ 0., nan, 26., 20., 15., 14., 19., 24.,  8., 23., 25., 28., 29.,\n",
       "       22., 21., 17., 30., 35., 32., 27., 16., 31., 33., 34., 39., 38.,\n",
       "       42., 40., 41., 36., 44., 37., 46., 45., 47., 43., 50., 10., 49.,\n",
       "       53., 48., 51., 54., 52., 55., 56., 61., 18., 57., 62., 60., 63.,\n",
       "       66., 59., 64., 13.,  7.,  5., 12.,  6.,  9., 58., 11., 65., 67.])"
      ]
     },
     "execution_count": 3,
     "metadata": {},
     "output_type": "execute_result"
    }
   ],
   "source": [
    "df['Number_Weeks_Used'].unique()        # unique function is used to find the unique values "
   ]
  },
  {
   "cell_type": "code",
   "execution_count": 4,
   "metadata": {
    "execution": {
     "iopub.execute_input": "2020-08-31T18:03:01.151618Z",
     "iopub.status.busy": "2020-08-31T18:03:01.150689Z",
     "iopub.status.idle": "2020-08-31T18:03:01.163361Z",
     "shell.execute_reply": "2020-08-31T18:03:01.162847Z"
    },
    "papermill": {
     "duration": 0.029128,
     "end_time": "2020-08-31T18:03:01.163471",
     "exception": false,
     "start_time": "2020-08-31T18:03:01.134343",
     "status": "completed"
    },
    "tags": []
   },
   "outputs": [
    {
     "data": {
      "text/plain": [
       "ID                            0\n",
       "Estimated_Insects_Count       0\n",
       "Crop_Type                     0\n",
       "Soil_Type                     0\n",
       "Pesticide_Use_Category        0\n",
       "Number_Doses_Week             0\n",
       "Number_Weeks_Used          9000\n",
       "Number_Weeks_Quit             0\n",
       "Season                        0\n",
       "Crop_Damage                   0\n",
       "dtype: int64"
      ]
     },
     "execution_count": 4,
     "metadata": {},
     "output_type": "execute_result"
    }
   ],
   "source": [
    "df.isnull().sum()                    #  isnull() function is used to find the null values,   sum() is used here to summ the total null values in a perticular column"
   ]
  },
  {
   "cell_type": "code",
   "execution_count": 5,
   "metadata": {
    "execution": {
     "iopub.execute_input": "2020-08-31T18:03:01.196369Z",
     "iopub.status.busy": "2020-08-31T18:03:01.188634Z",
     "iopub.status.idle": "2020-08-31T18:03:01.200202Z",
     "shell.execute_reply": "2020-08-31T18:03:01.199654Z"
    },
    "papermill": {
     "duration": 0.029174,
     "end_time": "2020-08-31T18:03:01.200316",
     "exception": false,
     "start_time": "2020-08-31T18:03:01.171142",
     "status": "completed"
    },
    "tags": []
   },
   "outputs": [],
   "source": [
    "df.drop(['ID'],axis=1,inplace=True)                  # drop function is used here to drop a perticular column"
   ]
  },
  {
   "cell_type": "markdown",
   "execution_count": null,
   "metadata": {
    "papermill": {
     "duration": 0.007365,
     "end_time": "2020-08-31T18:03:01.215657",
     "exception": false,
     "start_time": "2020-08-31T18:03:01.208292",
     "status": "completed"
    },
    "tags": []
   },
   "source": [
    "****fillna****\n",
    "\n",
    "it is used to fill the missing values \n",
    "\n",
    "1. ffill = forward fill"
   ]
  },
  {
   "cell_type": "code",
   "execution_count": 6,
   "metadata": {
    "execution": {
     "iopub.execute_input": "2020-08-31T18:03:01.241665Z",
     "iopub.status.busy": "2020-08-31T18:03:01.241070Z",
     "iopub.status.idle": "2020-08-31T18:03:01.245622Z",
     "shell.execute_reply": "2020-08-31T18:03:01.244913Z"
    },
    "papermill": {
     "duration": 0.022607,
     "end_time": "2020-08-31T18:03:01.245806",
     "exception": false,
     "start_time": "2020-08-31T18:03:01.223199",
     "status": "completed"
    },
    "tags": []
   },
   "outputs": [],
   "source": [
    "df[\"Number_Weeks_Used\"].fillna(method ='ffill', inplace = True)  "
   ]
  },
  {
   "cell_type": "markdown",
   "execution_count": null,
   "metadata": {
    "papermill": {
     "duration": 0.011284,
     "end_time": "2020-08-31T18:03:01.269226",
     "exception": false,
     "start_time": "2020-08-31T18:03:01.257942",
     "status": "completed"
    },
    "tags": []
   },
   "source": [
    "Now read the Test file"
   ]
  },
  {
   "cell_type": "code",
   "execution_count": 7,
   "metadata": {
    "execution": {
     "iopub.execute_input": "2020-08-31T18:03:01.298360Z",
     "iopub.status.busy": "2020-08-31T18:03:01.297760Z",
     "iopub.status.idle": "2020-08-31T18:03:01.365041Z",
     "shell.execute_reply": "2020-08-31T18:03:01.364324Z"
    },
    "papermill": {
     "duration": 0.084317,
     "end_time": "2020-08-31T18:03:01.365166",
     "exception": false,
     "start_time": "2020-08-31T18:03:01.280849",
     "status": "completed"
    },
    "tags": []
   },
   "outputs": [],
   "source": [
    "df1=pd.read_csv(\"../input/crop-damage/test_pFkWwen.csv\")"
   ]
  },
  {
   "cell_type": "code",
   "execution_count": 8,
   "metadata": {
    "execution": {
     "iopub.execute_input": "2020-08-31T18:03:01.386182Z",
     "iopub.status.busy": "2020-08-31T18:03:01.385350Z",
     "iopub.status.idle": "2020-08-31T18:03:01.393232Z",
     "shell.execute_reply": "2020-08-31T18:03:01.393865Z"
    },
    "papermill": {
     "duration": 0.020617,
     "end_time": "2020-08-31T18:03:01.394016",
     "exception": false,
     "start_time": "2020-08-31T18:03:01.373399",
     "status": "completed"
    },
    "tags": []
   },
   "outputs": [
    {
     "data": {
      "text/plain": [
       "array([nan,  0., 20., 19., 10., 14., 22., 13., 26., 17., 15., 25., 18.,\n",
       "       29., 23., 27., 34., 16., 35., 28., 21., 12., 31., 33., 24., 36.,\n",
       "       38., 30., 32.,  6., 41.,  7., 37., 40., 39., 45., 47., 42., 43.,\n",
       "       44., 50., 52., 48., 46., 49., 56., 57., 54., 51., 53., 58., 59.,\n",
       "       64., 62.,  5.,  9., 55.,  8., 11., 61., 60., 65., 67., 66., 63.])"
      ]
     },
     "execution_count": 8,
     "metadata": {},
     "output_type": "execute_result"
    }
   ],
   "source": [
    "df1['Number_Weeks_Used'].unique()"
   ]
  },
  {
   "cell_type": "markdown",
   "execution_count": null,
   "metadata": {
    "papermill": {
     "duration": 0.011946,
     "end_time": "2020-08-31T18:03:01.418148",
     "exception": false,
     "start_time": "2020-08-31T18:03:01.406202",
     "status": "completed"
    },
    "tags": []
   },
   "source": [
    "Handling Null values"
   ]
  },
  {
   "cell_type": "code",
   "execution_count": 9,
   "metadata": {
    "execution": {
     "iopub.execute_input": "2020-08-31T18:03:01.449065Z",
     "iopub.status.busy": "2020-08-31T18:03:01.445868Z",
     "iopub.status.idle": "2020-08-31T18:03:01.457065Z",
     "shell.execute_reply": "2020-08-31T18:03:01.457685Z"
    },
    "papermill": {
     "duration": 0.027862,
     "end_time": "2020-08-31T18:03:01.457853",
     "exception": false,
     "start_time": "2020-08-31T18:03:01.429991",
     "status": "completed"
    },
    "tags": []
   },
   "outputs": [
    {
     "data": {
      "text/plain": [
       "ID                            0\n",
       "Estimated_Insects_Count       0\n",
       "Crop_Type                     0\n",
       "Soil_Type                     0\n",
       "Pesticide_Use_Category        0\n",
       "Number_Doses_Week             0\n",
       "Number_Weeks_Used          5893\n",
       "Number_Weeks_Quit             0\n",
       "Season                        0\n",
       "dtype: int64"
      ]
     },
     "execution_count": 9,
     "metadata": {},
     "output_type": "execute_result"
    }
   ],
   "source": [
    "df1.isnull().sum()"
   ]
  },
  {
   "cell_type": "code",
   "execution_count": 10,
   "metadata": {
    "execution": {
     "iopub.execute_input": "2020-08-31T18:03:01.491438Z",
     "iopub.status.busy": "2020-08-31T18:03:01.490555Z",
     "iopub.status.idle": "2020-08-31T18:03:01.494792Z",
     "shell.execute_reply": "2020-08-31T18:03:01.493999Z"
    },
    "papermill": {
     "duration": 0.024887,
     "end_time": "2020-08-31T18:03:01.494902",
     "exception": false,
     "start_time": "2020-08-31T18:03:01.470015",
     "status": "completed"
    },
    "tags": []
   },
   "outputs": [],
   "source": [
    "df1.drop(['ID'],axis=1,inplace=True)"
   ]
  },
  {
   "cell_type": "markdown",
   "execution_count": null,
   "metadata": {
    "papermill": {
     "duration": 0.012063,
     "end_time": "2020-08-31T18:03:01.519128",
     "exception": false,
     "start_time": "2020-08-31T18:03:01.507065",
     "status": "completed"
    },
    "tags": []
   },
   "source": [
    "bfill= Backward fill"
   ]
  },
  {
   "cell_type": "code",
   "execution_count": 11,
   "metadata": {
    "execution": {
     "iopub.execute_input": "2020-08-31T18:03:01.551921Z",
     "iopub.status.busy": "2020-08-31T18:03:01.551058Z",
     "iopub.status.idle": "2020-08-31T18:03:01.554871Z",
     "shell.execute_reply": "2020-08-31T18:03:01.554196Z"
    },
    "papermill": {
     "duration": 0.023678,
     "end_time": "2020-08-31T18:03:01.554986",
     "exception": false,
     "start_time": "2020-08-31T18:03:01.531308",
     "status": "completed"
    },
    "tags": []
   },
   "outputs": [],
   "source": [
    "df1[\"Number_Weeks_Used\"].fillna(method ='bfill', inplace = True)"
   ]
  },
  {
   "cell_type": "code",
   "execution_count": 12,
   "metadata": {
    "execution": {
     "iopub.execute_input": "2020-08-31T18:03:01.591306Z",
     "iopub.status.busy": "2020-08-31T18:03:01.590638Z",
     "iopub.status.idle": "2020-08-31T18:03:01.596433Z",
     "shell.execute_reply": "2020-08-31T18:03:01.595779Z"
    },
    "papermill": {
     "duration": 0.029234,
     "end_time": "2020-08-31T18:03:01.596549",
     "exception": false,
     "start_time": "2020-08-31T18:03:01.567315",
     "status": "completed"
    },
    "tags": []
   },
   "outputs": [
    {
     "data": {
      "text/html": [
       "<div>\n",
       "<style scoped>\n",
       "    .dataframe tbody tr th:only-of-type {\n",
       "        vertical-align: middle;\n",
       "    }\n",
       "\n",
       "    .dataframe tbody tr th {\n",
       "        vertical-align: top;\n",
       "    }\n",
       "\n",
       "    .dataframe thead th {\n",
       "        text-align: right;\n",
       "    }\n",
       "</style>\n",
       "<table border=\"1\" class=\"dataframe\">\n",
       "  <thead>\n",
       "    <tr style=\"text-align: right;\">\n",
       "      <th></th>\n",
       "      <th>Estimated_Insects_Count</th>\n",
       "      <th>Crop_Type</th>\n",
       "      <th>Soil_Type</th>\n",
       "      <th>Pesticide_Use_Category</th>\n",
       "      <th>Number_Doses_Week</th>\n",
       "      <th>Number_Weeks_Used</th>\n",
       "      <th>Number_Weeks_Quit</th>\n",
       "      <th>Season</th>\n",
       "    </tr>\n",
       "  </thead>\n",
       "  <tbody>\n",
       "    <tr>\n",
       "      <th>0</th>\n",
       "      <td>188</td>\n",
       "      <td>1</td>\n",
       "      <td>1</td>\n",
       "      <td>1</td>\n",
       "      <td>0</td>\n",
       "      <td>0.0</td>\n",
       "      <td>0</td>\n",
       "      <td>2</td>\n",
       "    </tr>\n",
       "    <tr>\n",
       "      <th>1</th>\n",
       "      <td>410</td>\n",
       "      <td>1</td>\n",
       "      <td>1</td>\n",
       "      <td>1</td>\n",
       "      <td>0</td>\n",
       "      <td>0.0</td>\n",
       "      <td>0</td>\n",
       "      <td>2</td>\n",
       "    </tr>\n",
       "    <tr>\n",
       "      <th>2</th>\n",
       "      <td>626</td>\n",
       "      <td>1</td>\n",
       "      <td>0</td>\n",
       "      <td>1</td>\n",
       "      <td>0</td>\n",
       "      <td>0.0</td>\n",
       "      <td>0</td>\n",
       "      <td>2</td>\n",
       "    </tr>\n",
       "    <tr>\n",
       "      <th>3</th>\n",
       "      <td>731</td>\n",
       "      <td>1</td>\n",
       "      <td>0</td>\n",
       "      <td>1</td>\n",
       "      <td>0</td>\n",
       "      <td>0.0</td>\n",
       "      <td>0</td>\n",
       "      <td>2</td>\n",
       "    </tr>\n",
       "    <tr>\n",
       "      <th>4</th>\n",
       "      <td>789</td>\n",
       "      <td>0</td>\n",
       "      <td>0</td>\n",
       "      <td>1</td>\n",
       "      <td>0</td>\n",
       "      <td>0.0</td>\n",
       "      <td>0</td>\n",
       "      <td>1</td>\n",
       "    </tr>\n",
       "  </tbody>\n",
       "</table>\n",
       "</div>"
      ],
      "text/plain": [
       "   Estimated_Insects_Count  Crop_Type  Soil_Type  Pesticide_Use_Category  \\\n",
       "0                      188          1          1                       1   \n",
       "1                      410          1          1                       1   \n",
       "2                      626          1          0                       1   \n",
       "3                      731          1          0                       1   \n",
       "4                      789          0          0                       1   \n",
       "\n",
       "   Number_Doses_Week  Number_Weeks_Used  Number_Weeks_Quit  Season  \n",
       "0                  0                0.0                  0       2  \n",
       "1                  0                0.0                  0       2  \n",
       "2                  0                0.0                  0       2  \n",
       "3                  0                0.0                  0       2  \n",
       "4                  0                0.0                  0       1  "
      ]
     },
     "execution_count": 12,
     "metadata": {},
     "output_type": "execute_result"
    }
   ],
   "source": [
    "df1.head()"
   ]
  },
  {
   "cell_type": "markdown",
   "execution_count": null,
   "metadata": {
    "papermill": {
     "duration": 0.012761,
     "end_time": "2020-08-31T18:03:01.622098",
     "exception": false,
     "start_time": "2020-08-31T18:03:01.609337",
     "status": "completed"
    },
    "tags": []
   },
   "source": [
    "Now we define X and y for train our model"
   ]
  },
  {
   "cell_type": "code",
   "execution_count": 13,
   "metadata": {
    "execution": {
     "iopub.execute_input": "2020-08-31T18:03:01.655222Z",
     "iopub.status.busy": "2020-08-31T18:03:01.654552Z",
     "iopub.status.idle": "2020-08-31T18:03:01.658138Z",
     "shell.execute_reply": "2020-08-31T18:03:01.657606Z"
    },
    "papermill": {
     "duration": 0.023293,
     "end_time": "2020-08-31T18:03:01.658250",
     "exception": false,
     "start_time": "2020-08-31T18:03:01.634957",
     "status": "completed"
    },
    "tags": []
   },
   "outputs": [],
   "source": [
    "X=df.drop(['Crop_Damage'],axis=1)"
   ]
  },
  {
   "cell_type": "code",
   "execution_count": 14,
   "metadata": {
    "execution": {
     "iopub.execute_input": "2020-08-31T18:03:01.680807Z",
     "iopub.status.busy": "2020-08-31T18:03:01.680172Z",
     "iopub.status.idle": "2020-08-31T18:03:01.688659Z",
     "shell.execute_reply": "2020-08-31T18:03:01.688120Z"
    },
    "papermill": {
     "duration": 0.021613,
     "end_time": "2020-08-31T18:03:01.688787",
     "exception": false,
     "start_time": "2020-08-31T18:03:01.667174",
     "status": "completed"
    },
    "tags": []
   },
   "outputs": [
    {
     "data": {
      "text/plain": [
       "Estimated_Insects_Count    0\n",
       "Crop_Type                  0\n",
       "Soil_Type                  0\n",
       "Pesticide_Use_Category     0\n",
       "Number_Doses_Week          0\n",
       "Number_Weeks_Used          0\n",
       "Number_Weeks_Quit          0\n",
       "Season                     0\n",
       "dtype: int64"
      ]
     },
     "execution_count": 14,
     "metadata": {},
     "output_type": "execute_result"
    }
   ],
   "source": [
    "X.isnull().sum()"
   ]
  },
  {
   "cell_type": "code",
   "execution_count": 15,
   "metadata": {
    "execution": {
     "iopub.execute_input": "2020-08-31T18:03:01.711386Z",
     "iopub.status.busy": "2020-08-31T18:03:01.710348Z",
     "iopub.status.idle": "2020-08-31T18:03:01.714292Z",
     "shell.execute_reply": "2020-08-31T18:03:01.713803Z"
    },
    "papermill": {
     "duration": 0.017099,
     "end_time": "2020-08-31T18:03:01.714392",
     "exception": false,
     "start_time": "2020-08-31T18:03:01.697293",
     "status": "completed"
    },
    "tags": []
   },
   "outputs": [],
   "source": [
    "y=df.Crop_Damage"
   ]
  },
  {
   "cell_type": "markdown",
   "execution_count": null,
   "metadata": {
    "papermill": {
     "duration": 0.008262,
     "end_time": "2020-08-31T18:03:01.731547",
     "exception": false,
     "start_time": "2020-08-31T18:03:01.723285",
     "status": "completed"
    },
    "tags": []
   },
   "source": [
    "We use train_test_split from sklearn to split our dataset in to train set and test set."
   ]
  },
  {
   "cell_type": "code",
   "execution_count": 16,
   "metadata": {
    "execution": {
     "iopub.execute_input": "2020-08-31T18:03:01.755778Z",
     "iopub.status.busy": "2020-08-31T18:03:01.754926Z",
     "iopub.status.idle": "2020-08-31T18:03:02.909990Z",
     "shell.execute_reply": "2020-08-31T18:03:02.909426Z"
    },
    "papermill": {
     "duration": 1.170085,
     "end_time": "2020-08-31T18:03:02.910100",
     "exception": false,
     "start_time": "2020-08-31T18:03:01.740015",
     "status": "completed"
    },
    "tags": []
   },
   "outputs": [],
   "source": [
    "from sklearn.model_selection import train_test_split\n",
    "\n",
    "X_train, X_test, y_train, y_test = train_test_split(X, y, test_size=0.01, random_state=150)"
   ]
  },
  {
   "cell_type": "markdown",
   "execution_count": null,
   "metadata": {
    "papermill": {
     "duration": 0.008267,
     "end_time": "2020-08-31T18:03:02.927523",
     "exception": false,
     "start_time": "2020-08-31T18:03:02.919256",
     "status": "completed"
    },
    "tags": []
   },
   "source": [
    "Logistic regression is a statistical model that in its basic form uses a logistic function to model a binary dependent variable, although many more complex extensions exist. In regression analysis, logistic regression (or logit regression) is estimating the parameters of a logistic model (a form of binary regression).\n",
    "\n",
    "import Logistic Regression from sklearn"
   ]
  },
  {
   "cell_type": "code",
   "execution_count": 17,
   "metadata": {
    "execution": {
     "iopub.execute_input": "2020-08-31T18:03:02.950476Z",
     "iopub.status.busy": "2020-08-31T18:03:02.949536Z",
     "iopub.status.idle": "2020-08-31T18:03:03.044548Z",
     "shell.execute_reply": "2020-08-31T18:03:03.043834Z"
    },
    "papermill": {
     "duration": 0.108577,
     "end_time": "2020-08-31T18:03:03.044689",
     "exception": false,
     "start_time": "2020-08-31T18:03:02.936112",
     "status": "completed"
    },
    "tags": []
   },
   "outputs": [],
   "source": [
    "from sklearn.linear_model import LogisticRegression"
   ]
  },
  {
   "cell_type": "markdown",
   "execution_count": null,
   "metadata": {
    "papermill": {
     "duration": 0.013425,
     "end_time": "2020-08-31T18:03:03.072638",
     "exception": false,
     "start_time": "2020-08-31T18:03:03.059213",
     "status": "completed"
    },
    "tags": []
   },
   "source": [
    "Fit and transform our data in between 0 to 1 by using MInMaxScalar"
   ]
  },
  {
   "cell_type": "code",
   "execution_count": 18,
   "metadata": {
    "execution": {
     "iopub.execute_input": "2020-08-31T18:03:03.108138Z",
     "iopub.status.busy": "2020-08-31T18:03:03.107501Z",
     "iopub.status.idle": "2020-08-31T18:03:03.125628Z",
     "shell.execute_reply": "2020-08-31T18:03:03.125137Z"
    },
    "papermill": {
     "duration": 0.039431,
     "end_time": "2020-08-31T18:03:03.125750",
     "exception": false,
     "start_time": "2020-08-31T18:03:03.086319",
     "status": "completed"
    },
    "tags": []
   },
   "outputs": [],
   "source": [
    "from sklearn.preprocessing import MinMaxScaler\n",
    "\n",
    "scaler = MinMaxScaler(feature_range = (0,1))\n",
    "\n",
    "scaler.fit(X_train)\n",
    "X_train = scaler.transform(X_train)\n",
    "X_test = scaler.transform(X_test)"
   ]
  },
  {
   "cell_type": "markdown",
   "execution_count": null,
   "metadata": {
    "papermill": {
     "duration": 0.0084,
     "end_time": "2020-08-31T18:03:03.142854",
     "exception": false,
     "start_time": "2020-08-31T18:03:03.134454",
     "status": "completed"
    },
    "tags": []
   },
   "source": [
    "train the model by using fit method\n",
    "\n",
    "to get the accuracy use score function"
   ]
  },
  {
   "cell_type": "code",
   "execution_count": 19,
   "metadata": {
    "execution": {
     "iopub.execute_input": "2020-08-31T18:03:03.167655Z",
     "iopub.status.busy": "2020-08-31T18:03:03.167008Z",
     "iopub.status.idle": "2020-08-31T18:03:04.208305Z",
     "shell.execute_reply": "2020-08-31T18:03:04.207415Z"
    },
    "papermill": {
     "duration": 1.055914,
     "end_time": "2020-08-31T18:03:04.208453",
     "exception": false,
     "start_time": "2020-08-31T18:03:03.152539",
     "status": "completed"
    },
    "tags": []
   },
   "outputs": [
    {
     "data": {
      "text/plain": [
       "0.8380202474690663"
      ]
     },
     "execution_count": 19,
     "metadata": {},
     "output_type": "execute_result"
    }
   ],
   "source": [
    "lr = LogisticRegression(solver='liblinear',multi_class='ovr')\n",
    "lr.fit(X_train, y_train)\n",
    "lr.score(X_test, y_test)"
   ]
  },
  {
   "cell_type": "markdown",
   "execution_count": null,
   "metadata": {
    "papermill": {
     "duration": 0.013933,
     "end_time": "2020-08-31T18:03:04.238470",
     "exception": false,
     "start_time": "2020-08-31T18:03:04.224537",
     "status": "completed"
    },
    "tags": []
   },
   "source": [
    "predict the values of test dataset using predict function"
   ]
  },
  {
   "cell_type": "code",
   "execution_count": 20,
   "metadata": {
    "execution": {
     "iopub.execute_input": "2020-08-31T18:03:04.273351Z",
     "iopub.status.busy": "2020-08-31T18:03:04.272321Z",
     "iopub.status.idle": "2020-08-31T18:03:04.278754Z",
     "shell.execute_reply": "2020-08-31T18:03:04.278175Z"
    },
    "papermill": {
     "duration": 0.026576,
     "end_time": "2020-08-31T18:03:04.278860",
     "exception": false,
     "start_time": "2020-08-31T18:03:04.252284",
     "status": "completed"
    },
    "tags": []
   },
   "outputs": [],
   "source": [
    "y_pred = lr.predict(df1)"
   ]
  },
  {
   "cell_type": "code",
   "execution_count": 21,
   "metadata": {
    "execution": {
     "iopub.execute_input": "2020-08-31T18:03:04.302950Z",
     "iopub.status.busy": "2020-08-31T18:03:04.302320Z",
     "iopub.status.idle": "2020-08-31T18:03:04.305948Z",
     "shell.execute_reply": "2020-08-31T18:03:04.305312Z"
    },
    "papermill": {
     "duration": 0.017684,
     "end_time": "2020-08-31T18:03:04.306042",
     "exception": false,
     "start_time": "2020-08-31T18:03:04.288358",
     "status": "completed"
    },
    "tags": []
   },
   "outputs": [],
   "source": [
    "pred = pd.DataFrame(y_pred)"
   ]
  },
  {
   "cell_type": "code",
   "execution_count": 22,
   "metadata": {
    "execution": {
     "iopub.execute_input": "2020-08-31T18:03:04.333079Z",
     "iopub.status.busy": "2020-08-31T18:03:04.332252Z",
     "iopub.status.idle": "2020-08-31T18:03:04.337303Z",
     "shell.execute_reply": "2020-08-31T18:03:04.336587Z"
    },
    "papermill": {
     "duration": 0.02258,
     "end_time": "2020-08-31T18:03:04.337421",
     "exception": false,
     "start_time": "2020-08-31T18:03:04.314841",
     "status": "completed"
    },
    "tags": []
   },
   "outputs": [
    {
     "data": {
      "text/html": [
       "<div>\n",
       "<style scoped>\n",
       "    .dataframe tbody tr th:only-of-type {\n",
       "        vertical-align: middle;\n",
       "    }\n",
       "\n",
       "    .dataframe tbody tr th {\n",
       "        vertical-align: top;\n",
       "    }\n",
       "\n",
       "    .dataframe thead th {\n",
       "        text-align: right;\n",
       "    }\n",
       "</style>\n",
       "<table border=\"1\" class=\"dataframe\">\n",
       "  <thead>\n",
       "    <tr style=\"text-align: right;\">\n",
       "      <th></th>\n",
       "      <th>0</th>\n",
       "    </tr>\n",
       "  </thead>\n",
       "  <tbody>\n",
       "    <tr>\n",
       "      <th>0</th>\n",
       "      <td>1</td>\n",
       "    </tr>\n",
       "    <tr>\n",
       "      <th>1</th>\n",
       "      <td>1</td>\n",
       "    </tr>\n",
       "    <tr>\n",
       "      <th>2</th>\n",
       "      <td>1</td>\n",
       "    </tr>\n",
       "    <tr>\n",
       "      <th>3</th>\n",
       "      <td>1</td>\n",
       "    </tr>\n",
       "    <tr>\n",
       "      <th>4</th>\n",
       "      <td>1</td>\n",
       "    </tr>\n",
       "  </tbody>\n",
       "</table>\n",
       "</div>"
      ],
      "text/plain": [
       "   0\n",
       "0  1\n",
       "1  1\n",
       "2  1\n",
       "3  1\n",
       "4  1"
      ]
     },
     "execution_count": 22,
     "metadata": {},
     "output_type": "execute_result"
    }
   ],
   "source": [
    "pred.head()"
   ]
  },
  {
   "cell_type": "markdown",
   "execution_count": null,
   "metadata": {
    "papermill": {
     "duration": 0.013754,
     "end_time": "2020-08-31T18:03:04.365455",
     "exception": false,
     "start_time": "2020-08-31T18:03:04.351701",
     "status": "completed"
    },
    "tags": []
   },
   "source": [
    "We develop the good crop damage model by using Logistic Regression model, to know about the hyperparameters of Logistioc Regressiion learn from the google, if you find ant difficulty, please let me know"
   ]
  }
 ],
 "metadata": {
  "kernelspec": {
   "display_name": "Python 3",
   "language": "python",
   "name": "python3"
  },
  "language_info": {
   "codemirror_mode": {
    "name": "ipython",
    "version": 3
   },
   "file_extension": ".py",
   "mimetype": "text/x-python",
   "name": "python",
   "nbconvert_exporter": "python",
   "pygments_lexer": "ipython3",
   "version": "3.7.6"
  },
  "papermill": {
   "duration": 8.602162,
   "end_time": "2020-08-31T18:03:04.487249",
   "environment_variables": {},
   "exception": null,
   "input_path": "__notebook__.ipynb",
   "output_path": "__notebook__.ipynb",
   "parameters": {},
   "start_time": "2020-08-31T18:02:55.885087",
   "version": "2.1.0"
  }
 },
 "nbformat": 4,
 "nbformat_minor": 4
}
